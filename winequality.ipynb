{
 "cells": [
  {
   "cell_type": "code",
   "execution_count": 3,
   "id": "09793d1c-54c2-4288-ba1d-6bb00b9f7af7",
   "metadata": {},
   "outputs": [],
   "source": [
    "import pandas as pd\n",
    "import numpy as np\n",
    "import matplotlib.pyplot as plt\n",
    "from sklearn.model_selection import train_test_split\n",
    "from sklearn.linear_model import LinearRegression\n",
    "from sklearn import metrics\n",
    "\n",
    "%matplotlib inline"
   ]
  },
  {
   "cell_type": "code",
   "execution_count": 4,
   "id": "8824179a-78ca-446f-9c7a-16012d85ef41",
   "metadata": {},
   "outputs": [],
   "source": [
    "file = pd.read_csv(r\"C:\\Users\\sonua\\Desktop\\i\\mlproject\\wine.csv\")"
   ]
  },
  {
   "cell_type": "code",
   "execution_count": 5,
   "id": "5883c8de-02cd-4410-b273-5098f3a043a8",
   "metadata": {},
   "outputs": [
    {
     "data": {
      "text/html": [
       "<div>\n",
       "<style scoped>\n",
       "    .dataframe tbody tr th:only-of-type {\n",
       "        vertical-align: middle;\n",
       "    }\n",
       "\n",
       "    .dataframe tbody tr th {\n",
       "        vertical-align: top;\n",
       "    }\n",
       "\n",
       "    .dataframe thead th {\n",
       "        text-align: right;\n",
       "    }\n",
       "</style>\n",
       "<table border=\"1\" class=\"dataframe\">\n",
       "  <thead>\n",
       "    <tr style=\"text-align: right;\">\n",
       "      <th></th>\n",
       "      <th>Alcohol_Content</th>\n",
       "      <th>Fixed_Acidity</th>\n",
       "      <th>Volatile_Acidity</th>\n",
       "      <th>Citric_Acid</th>\n",
       "      <th>Residual_Sugar</th>\n",
       "      <th>Chlorides</th>\n",
       "      <th>Free_Sulfur_Dioxide</th>\n",
       "      <th>Total_Sulfur_Dioxide</th>\n",
       "      <th>Density</th>\n",
       "      <th>pH</th>\n",
       "      <th>Sulphates</th>\n",
       "      <th>Wine_Quality</th>\n",
       "    </tr>\n",
       "  </thead>\n",
       "  <tbody>\n",
       "    <tr>\n",
       "      <th>0</th>\n",
       "      <td>9.8</td>\n",
       "      <td>6.0</td>\n",
       "      <td>0.6</td>\n",
       "      <td>0.5</td>\n",
       "      <td>18.0</td>\n",
       "      <td>0.09</td>\n",
       "      <td>18.0</td>\n",
       "      <td>95.0</td>\n",
       "      <td>1.00</td>\n",
       "      <td>3.4</td>\n",
       "      <td>0.7</td>\n",
       "      <td>5</td>\n",
       "    </tr>\n",
       "    <tr>\n",
       "      <th>1</th>\n",
       "      <td>11.2</td>\n",
       "      <td>12.5</td>\n",
       "      <td>0.3</td>\n",
       "      <td>0.1</td>\n",
       "      <td>9.0</td>\n",
       "      <td>0.15</td>\n",
       "      <td>14.0</td>\n",
       "      <td>120.0</td>\n",
       "      <td>1.00</td>\n",
       "      <td>3.4</td>\n",
       "      <td>0.8</td>\n",
       "      <td>6</td>\n",
       "    </tr>\n",
       "    <tr>\n",
       "      <th>2</th>\n",
       "      <td>10.7</td>\n",
       "      <td>7.5</td>\n",
       "      <td>0.2</td>\n",
       "      <td>0.3</td>\n",
       "      <td>14.0</td>\n",
       "      <td>0.04</td>\n",
       "      <td>22.0</td>\n",
       "      <td>110.0</td>\n",
       "      <td>1.02</td>\n",
       "      <td>3.1</td>\n",
       "      <td>0.6</td>\n",
       "      <td>7</td>\n",
       "    </tr>\n",
       "    <tr>\n",
       "      <th>3</th>\n",
       "      <td>11.8</td>\n",
       "      <td>9.0</td>\n",
       "      <td>0.9</td>\n",
       "      <td>0.6</td>\n",
       "      <td>4.5</td>\n",
       "      <td>0.15</td>\n",
       "      <td>28.0</td>\n",
       "      <td>160.0</td>\n",
       "      <td>1.02</td>\n",
       "      <td>3.3</td>\n",
       "      <td>0.7</td>\n",
       "      <td>6</td>\n",
       "    </tr>\n",
       "    <tr>\n",
       "      <th>4</th>\n",
       "      <td>12.5</td>\n",
       "      <td>11.0</td>\n",
       "      <td>0.4</td>\n",
       "      <td>0.2</td>\n",
       "      <td>3.0</td>\n",
       "      <td>0.02</td>\n",
       "      <td>16.0</td>\n",
       "      <td>140.0</td>\n",
       "      <td>1.01</td>\n",
       "      <td>3.7</td>\n",
       "      <td>0.3</td>\n",
       "      <td>4</td>\n",
       "    </tr>\n",
       "  </tbody>\n",
       "</table>\n",
       "</div>"
      ],
      "text/plain": [
       "   Alcohol_Content  Fixed_Acidity  Volatile_Acidity  Citric_Acid  \\\n",
       "0              9.8            6.0               0.6          0.5   \n",
       "1             11.2           12.5               0.3          0.1   \n",
       "2             10.7            7.5               0.2          0.3   \n",
       "3             11.8            9.0               0.9          0.6   \n",
       "4             12.5           11.0               0.4          0.2   \n",
       "\n",
       "   Residual_Sugar  Chlorides  Free_Sulfur_Dioxide  Total_Sulfur_Dioxide  \\\n",
       "0            18.0       0.09                 18.0                  95.0   \n",
       "1             9.0       0.15                 14.0                 120.0   \n",
       "2            14.0       0.04                 22.0                 110.0   \n",
       "3             4.5       0.15                 28.0                 160.0   \n",
       "4             3.0       0.02                 16.0                 140.0   \n",
       "\n",
       "   Density   pH  Sulphates  Wine_Quality  \n",
       "0     1.00  3.4        0.7             5  \n",
       "1     1.00  3.4        0.8             6  \n",
       "2     1.02  3.1        0.6             7  \n",
       "3     1.02  3.3        0.7             6  \n",
       "4     1.01  3.7        0.3             4  "
      ]
     },
     "execution_count": 5,
     "metadata": {},
     "output_type": "execute_result"
    }
   ],
   "source": [
    "file.head()\n"
   ]
  },
  {
   "cell_type": "code",
   "execution_count": 6,
   "id": "3341152d-8eae-4f7c-bb4b-876daca151ae",
   "metadata": {},
   "outputs": [
    {
     "name": "stdout",
     "output_type": "stream",
     "text": [
      "<class 'pandas.core.frame.DataFrame'>\n",
      "RangeIndex: 18 entries, 0 to 17\n",
      "Data columns (total 12 columns):\n",
      " #   Column                Non-Null Count  Dtype  \n",
      "---  ------                --------------  -----  \n",
      " 0   Alcohol_Content       18 non-null     float64\n",
      " 1   Fixed_Acidity         18 non-null     float64\n",
      " 2   Volatile_Acidity      18 non-null     float64\n",
      " 3   Citric_Acid           18 non-null     float64\n",
      " 4   Residual_Sugar        18 non-null     float64\n",
      " 5   Chlorides             18 non-null     float64\n",
      " 6   Free_Sulfur_Dioxide   18 non-null     float64\n",
      " 7   Total_Sulfur_Dioxide  18 non-null     float64\n",
      " 8   Density               18 non-null     float64\n",
      " 9   pH                    18 non-null     float64\n",
      " 10  Sulphates             18 non-null     float64\n",
      " 11  Wine_Quality          18 non-null     int64  \n",
      "dtypes: float64(11), int64(1)\n",
      "memory usage: 1.8 KB\n"
     ]
    }
   ],
   "source": [
    "file.info()"
   ]
  },
  {
   "cell_type": "code",
   "execution_count": 7,
   "id": "fc035aad-d846-4ee4-acfe-d01515c9e908",
   "metadata": {},
   "outputs": [
    {
     "data": {
      "text/html": [
       "<div>\n",
       "<style scoped>\n",
       "    .dataframe tbody tr th:only-of-type {\n",
       "        vertical-align: middle;\n",
       "    }\n",
       "\n",
       "    .dataframe tbody tr th {\n",
       "        vertical-align: top;\n",
       "    }\n",
       "\n",
       "    .dataframe thead th {\n",
       "        text-align: right;\n",
       "    }\n",
       "</style>\n",
       "<table border=\"1\" class=\"dataframe\">\n",
       "  <thead>\n",
       "    <tr style=\"text-align: right;\">\n",
       "      <th></th>\n",
       "      <th>Alcohol_Content</th>\n",
       "      <th>Fixed_Acidity</th>\n",
       "      <th>Volatile_Acidity</th>\n",
       "      <th>Citric_Acid</th>\n",
       "      <th>Residual_Sugar</th>\n",
       "      <th>Chlorides</th>\n",
       "      <th>Free_Sulfur_Dioxide</th>\n",
       "      <th>Total_Sulfur_Dioxide</th>\n",
       "      <th>Density</th>\n",
       "      <th>pH</th>\n",
       "      <th>Sulphates</th>\n",
       "      <th>Wine_Quality</th>\n",
       "    </tr>\n",
       "  </thead>\n",
       "  <tbody>\n",
       "    <tr>\n",
       "      <th>count</th>\n",
       "      <td>18.000000</td>\n",
       "      <td>18.000000</td>\n",
       "      <td>18.000000</td>\n",
       "      <td>18.000000</td>\n",
       "      <td>18.000000</td>\n",
       "      <td>18.000000</td>\n",
       "      <td>18.000000</td>\n",
       "      <td>18.000000</td>\n",
       "      <td>18.000000</td>\n",
       "      <td>18.000000</td>\n",
       "      <td>18.000000</td>\n",
       "      <td>18.000000</td>\n",
       "    </tr>\n",
       "    <tr>\n",
       "      <th>mean</th>\n",
       "      <td>11.755556</td>\n",
       "      <td>8.888889</td>\n",
       "      <td>0.522222</td>\n",
       "      <td>0.455556</td>\n",
       "      <td>9.522222</td>\n",
       "      <td>0.106667</td>\n",
       "      <td>21.777778</td>\n",
       "      <td>112.222222</td>\n",
       "      <td>1.013333</td>\n",
       "      <td>3.377778</td>\n",
       "      <td>0.538889</td>\n",
       "      <td>5.888889</td>\n",
       "    </tr>\n",
       "    <tr>\n",
       "      <th>std</th>\n",
       "      <td>1.333823</td>\n",
       "      <td>2.368392</td>\n",
       "      <td>0.239007</td>\n",
       "      <td>0.214811</td>\n",
       "      <td>6.325816</td>\n",
       "      <td>0.040000</td>\n",
       "      <td>8.062663</td>\n",
       "      <td>36.146036</td>\n",
       "      <td>0.015718</td>\n",
       "      <td>0.251011</td>\n",
       "      <td>0.188302</td>\n",
       "      <td>1.231398</td>\n",
       "    </tr>\n",
       "    <tr>\n",
       "      <th>min</th>\n",
       "      <td>9.800000</td>\n",
       "      <td>6.000000</td>\n",
       "      <td>0.100000</td>\n",
       "      <td>0.100000</td>\n",
       "      <td>1.200000</td>\n",
       "      <td>0.020000</td>\n",
       "      <td>8.000000</td>\n",
       "      <td>40.000000</td>\n",
       "      <td>0.980000</td>\n",
       "      <td>3.000000</td>\n",
       "      <td>0.300000</td>\n",
       "      <td>3.000000</td>\n",
       "    </tr>\n",
       "    <tr>\n",
       "      <th>25%</th>\n",
       "      <td>10.725000</td>\n",
       "      <td>6.775000</td>\n",
       "      <td>0.325000</td>\n",
       "      <td>0.300000</td>\n",
       "      <td>5.625000</td>\n",
       "      <td>0.090000</td>\n",
       "      <td>16.500000</td>\n",
       "      <td>87.500000</td>\n",
       "      <td>1.002500</td>\n",
       "      <td>3.200000</td>\n",
       "      <td>0.325000</td>\n",
       "      <td>5.000000</td>\n",
       "    </tr>\n",
       "    <tr>\n",
       "      <th>50%</th>\n",
       "      <td>11.750000</td>\n",
       "      <td>8.250000</td>\n",
       "      <td>0.550000</td>\n",
       "      <td>0.500000</td>\n",
       "      <td>8.000000</td>\n",
       "      <td>0.100000</td>\n",
       "      <td>20.000000</td>\n",
       "      <td>110.000000</td>\n",
       "      <td>1.015000</td>\n",
       "      <td>3.350000</td>\n",
       "      <td>0.550000</td>\n",
       "      <td>6.000000</td>\n",
       "    </tr>\n",
       "    <tr>\n",
       "      <th>75%</th>\n",
       "      <td>12.650000</td>\n",
       "      <td>10.875000</td>\n",
       "      <td>0.700000</td>\n",
       "      <td>0.675000</td>\n",
       "      <td>13.250000</td>\n",
       "      <td>0.150000</td>\n",
       "      <td>27.500000</td>\n",
       "      <td>140.000000</td>\n",
       "      <td>1.020000</td>\n",
       "      <td>3.575000</td>\n",
       "      <td>0.700000</td>\n",
       "      <td>7.000000</td>\n",
       "    </tr>\n",
       "    <tr>\n",
       "      <th>max</th>\n",
       "      <td>14.500000</td>\n",
       "      <td>13.000000</td>\n",
       "      <td>0.900000</td>\n",
       "      <td>0.700000</td>\n",
       "      <td>23.000000</td>\n",
       "      <td>0.150000</td>\n",
       "      <td>38.000000</td>\n",
       "      <td>180.000000</td>\n",
       "      <td>1.040000</td>\n",
       "      <td>3.800000</td>\n",
       "      <td>0.800000</td>\n",
       "      <td>8.000000</td>\n",
       "    </tr>\n",
       "  </tbody>\n",
       "</table>\n",
       "</div>"
      ],
      "text/plain": [
       "       Alcohol_Content  Fixed_Acidity  Volatile_Acidity  Citric_Acid  \\\n",
       "count        18.000000      18.000000         18.000000    18.000000   \n",
       "mean         11.755556       8.888889          0.522222     0.455556   \n",
       "std           1.333823       2.368392          0.239007     0.214811   \n",
       "min           9.800000       6.000000          0.100000     0.100000   \n",
       "25%          10.725000       6.775000          0.325000     0.300000   \n",
       "50%          11.750000       8.250000          0.550000     0.500000   \n",
       "75%          12.650000      10.875000          0.700000     0.675000   \n",
       "max          14.500000      13.000000          0.900000     0.700000   \n",
       "\n",
       "       Residual_Sugar  Chlorides  Free_Sulfur_Dioxide  Total_Sulfur_Dioxide  \\\n",
       "count       18.000000  18.000000            18.000000             18.000000   \n",
       "mean         9.522222   0.106667            21.777778            112.222222   \n",
       "std          6.325816   0.040000             8.062663             36.146036   \n",
       "min          1.200000   0.020000             8.000000             40.000000   \n",
       "25%          5.625000   0.090000            16.500000             87.500000   \n",
       "50%          8.000000   0.100000            20.000000            110.000000   \n",
       "75%         13.250000   0.150000            27.500000            140.000000   \n",
       "max         23.000000   0.150000            38.000000            180.000000   \n",
       "\n",
       "         Density         pH  Sulphates  Wine_Quality  \n",
       "count  18.000000  18.000000  18.000000     18.000000  \n",
       "mean    1.013333   3.377778   0.538889      5.888889  \n",
       "std     0.015718   0.251011   0.188302      1.231398  \n",
       "min     0.980000   3.000000   0.300000      3.000000  \n",
       "25%     1.002500   3.200000   0.325000      5.000000  \n",
       "50%     1.015000   3.350000   0.550000      6.000000  \n",
       "75%     1.020000   3.575000   0.700000      7.000000  \n",
       "max     1.040000   3.800000   0.800000      8.000000  "
      ]
     },
     "execution_count": 7,
     "metadata": {},
     "output_type": "execute_result"
    }
   ],
   "source": [
    "file.describe()"
   ]
  },
  {
   "cell_type": "code",
   "execution_count": 8,
   "id": "c67c1116-482d-4314-bc00-295f4cfde757",
   "metadata": {},
   "outputs": [
    {
     "data": {
      "text/plain": [
       "Index(['Alcohol_Content', 'Fixed_Acidity', 'Volatile_Acidity', 'Citric_Acid',\n",
       "       'Residual_Sugar', 'Chlorides', 'Free_Sulfur_Dioxide',\n",
       "       'Total_Sulfur_Dioxide', 'Density', 'pH', 'Sulphates', 'Wine_Quality'],\n",
       "      dtype='object')"
      ]
     },
     "execution_count": 8,
     "metadata": {},
     "output_type": "execute_result"
    }
   ],
   "source": [
    "file.columns"
   ]
  },
  {
   "cell_type": "code",
   "execution_count": 22,
   "id": "145dc17d-1631-4c46-9b45-e5a382acfabf",
   "metadata": {},
   "outputs": [],
   "source": [
    "x = file[['Alcohol_Content', 'Fixed_Acidity',\n",
    "       'Volatile_Acidity', 'Citric_Acid', 'Residual_Sugar',\n",
    "       'Chlorides','Free_Sulfur_Dioxide','Total_Sulfur_Dioxide', 'Density', 'pH', 'Sulphates']]\n",
    "y = file['Wine_Quality']"
   ]
  },
  {
   "cell_type": "code",
   "execution_count": 23,
   "id": "91c44abf-946a-4b06-afb5-5f305aae37c1",
   "metadata": {},
   "outputs": [],
   "source": [
    "from sklearn.model_selection import train_test_split"
   ]
  },
  {
   "cell_type": "code",
   "execution_count": 24,
   "id": "44646c97-71e5-4712-8bd8-3c3316db0f13",
   "metadata": {},
   "outputs": [],
   "source": [
    "x_train , x_test, y_train, y_test = train_test_split(x, y , test_size=0.6)"
   ]
  },
  {
   "cell_type": "code",
   "execution_count": 25,
   "id": "432c6972-ff26-4646-ac5f-b04010c52faa",
   "metadata": {},
   "outputs": [
    {
     "data": {
      "text/html": [
       "<style>#sk-container-id-2 {color: black;}#sk-container-id-2 pre{padding: 0;}#sk-container-id-2 div.sk-toggleable {background-color: white;}#sk-container-id-2 label.sk-toggleable__label {cursor: pointer;display: block;width: 100%;margin-bottom: 0;padding: 0.3em;box-sizing: border-box;text-align: center;}#sk-container-id-2 label.sk-toggleable__label-arrow:before {content: \"▸\";float: left;margin-right: 0.25em;color: #696969;}#sk-container-id-2 label.sk-toggleable__label-arrow:hover:before {color: black;}#sk-container-id-2 div.sk-estimator:hover label.sk-toggleable__label-arrow:before {color: black;}#sk-container-id-2 div.sk-toggleable__content {max-height: 0;max-width: 0;overflow: hidden;text-align: left;background-color: #f0f8ff;}#sk-container-id-2 div.sk-toggleable__content pre {margin: 0.2em;color: black;border-radius: 0.25em;background-color: #f0f8ff;}#sk-container-id-2 input.sk-toggleable__control:checked~div.sk-toggleable__content {max-height: 200px;max-width: 100%;overflow: auto;}#sk-container-id-2 input.sk-toggleable__control:checked~label.sk-toggleable__label-arrow:before {content: \"▾\";}#sk-container-id-2 div.sk-estimator input.sk-toggleable__control:checked~label.sk-toggleable__label {background-color: #d4ebff;}#sk-container-id-2 div.sk-label input.sk-toggleable__control:checked~label.sk-toggleable__label {background-color: #d4ebff;}#sk-container-id-2 input.sk-hidden--visually {border: 0;clip: rect(1px 1px 1px 1px);clip: rect(1px, 1px, 1px, 1px);height: 1px;margin: -1px;overflow: hidden;padding: 0;position: absolute;width: 1px;}#sk-container-id-2 div.sk-estimator {font-family: monospace;background-color: #f0f8ff;border: 1px dotted black;border-radius: 0.25em;box-sizing: border-box;margin-bottom: 0.5em;}#sk-container-id-2 div.sk-estimator:hover {background-color: #d4ebff;}#sk-container-id-2 div.sk-parallel-item::after {content: \"\";width: 100%;border-bottom: 1px solid gray;flex-grow: 1;}#sk-container-id-2 div.sk-label:hover label.sk-toggleable__label {background-color: #d4ebff;}#sk-container-id-2 div.sk-serial::before {content: \"\";position: absolute;border-left: 1px solid gray;box-sizing: border-box;top: 0;bottom: 0;left: 50%;z-index: 0;}#sk-container-id-2 div.sk-serial {display: flex;flex-direction: column;align-items: center;background-color: white;padding-right: 0.2em;padding-left: 0.2em;position: relative;}#sk-container-id-2 div.sk-item {position: relative;z-index: 1;}#sk-container-id-2 div.sk-parallel {display: flex;align-items: stretch;justify-content: center;background-color: white;position: relative;}#sk-container-id-2 div.sk-item::before, #sk-container-id-2 div.sk-parallel-item::before {content: \"\";position: absolute;border-left: 1px solid gray;box-sizing: border-box;top: 0;bottom: 0;left: 50%;z-index: -1;}#sk-container-id-2 div.sk-parallel-item {display: flex;flex-direction: column;z-index: 1;position: relative;background-color: white;}#sk-container-id-2 div.sk-parallel-item:first-child::after {align-self: flex-end;width: 50%;}#sk-container-id-2 div.sk-parallel-item:last-child::after {align-self: flex-start;width: 50%;}#sk-container-id-2 div.sk-parallel-item:only-child::after {width: 0;}#sk-container-id-2 div.sk-dashed-wrapped {border: 1px dashed gray;margin: 0 0.4em 0.5em 0.4em;box-sizing: border-box;padding-bottom: 0.4em;background-color: white;}#sk-container-id-2 div.sk-label label {font-family: monospace;font-weight: bold;display: inline-block;line-height: 1.2em;}#sk-container-id-2 div.sk-label-container {text-align: center;}#sk-container-id-2 div.sk-container {/* jupyter's `normalize.less` sets `[hidden] { display: none; }` but bootstrap.min.css set `[hidden] { display: none !important; }` so we also need the `!important` here to be able to override the default hidden behavior on the sphinx rendered scikit-learn.org. See: https://github.com/scikit-learn/scikit-learn/issues/21755 */display: inline-block !important;position: relative;}#sk-container-id-2 div.sk-text-repr-fallback {display: none;}</style><div id=\"sk-container-id-2\" class=\"sk-top-container\"><div class=\"sk-text-repr-fallback\"><pre>LinearRegression()</pre><b>In a Jupyter environment, please rerun this cell to show the HTML representation or trust the notebook. <br />On GitHub, the HTML representation is unable to render, please try loading this page with nbviewer.org.</b></div><div class=\"sk-container\" hidden><div class=\"sk-item\"><div class=\"sk-estimator sk-toggleable\"><input class=\"sk-toggleable__control sk-hidden--visually\" id=\"sk-estimator-id-2\" type=\"checkbox\" checked><label for=\"sk-estimator-id-2\" class=\"sk-toggleable__label sk-toggleable__label-arrow\">LinearRegression</label><div class=\"sk-toggleable__content\"><pre>LinearRegression()</pre></div></div></div></div></div>"
      ],
      "text/plain": [
       "LinearRegression()"
      ]
     },
     "execution_count": 25,
     "metadata": {},
     "output_type": "execute_result"
    }
   ],
   "source": [
    "from sklearn.linear_model import LinearRegression\n",
    "lr = LinearRegression()\n",
    "lr.fit(x_train, y_train)"
   ]
  },
  {
   "cell_type": "code",
   "execution_count": 26,
   "id": "64761a6c-f18f-4734-abd0-77b8f703738c",
   "metadata": {},
   "outputs": [
    {
     "name": "stdout",
     "output_type": "stream",
     "text": [
      "7.072584882581436\n"
     ]
    }
   ],
   "source": [
    "print(lr.intercept_)"
   ]
  },
  {
   "cell_type": "code",
   "execution_count": 27,
   "id": "ca43595d-afc0-4705-a4e7-3c8fc90406fe",
   "metadata": {},
   "outputs": [
    {
     "data": {
      "text/html": [
       "<div>\n",
       "<style scoped>\n",
       "    .dataframe tbody tr th:only-of-type {\n",
       "        vertical-align: middle;\n",
       "    }\n",
       "\n",
       "    .dataframe tbody tr th {\n",
       "        vertical-align: top;\n",
       "    }\n",
       "\n",
       "    .dataframe thead th {\n",
       "        text-align: right;\n",
       "    }\n",
       "</style>\n",
       "<table border=\"1\" class=\"dataframe\">\n",
       "  <thead>\n",
       "    <tr style=\"text-align: right;\">\n",
       "      <th></th>\n",
       "      <th>Coefficients</th>\n",
       "    </tr>\n",
       "  </thead>\n",
       "  <tbody>\n",
       "    <tr>\n",
       "      <th>Alcohol_Content</th>\n",
       "      <td>0.263640</td>\n",
       "    </tr>\n",
       "    <tr>\n",
       "      <th>Fixed_Acidity</th>\n",
       "      <td>-0.757716</td>\n",
       "    </tr>\n",
       "    <tr>\n",
       "      <th>Volatile_Acidity</th>\n",
       "      <td>0.877697</td>\n",
       "    </tr>\n",
       "    <tr>\n",
       "      <th>Citric_Acid</th>\n",
       "      <td>0.737893</td>\n",
       "    </tr>\n",
       "    <tr>\n",
       "      <th>Residual_Sugar</th>\n",
       "      <td>-0.072846</td>\n",
       "    </tr>\n",
       "    <tr>\n",
       "      <th>Chlorides</th>\n",
       "      <td>0.269744</td>\n",
       "    </tr>\n",
       "    <tr>\n",
       "      <th>Free_Sulfur_Dioxide</th>\n",
       "      <td>-0.099592</td>\n",
       "    </tr>\n",
       "    <tr>\n",
       "      <th>Total_Sulfur_Dioxide</th>\n",
       "      <td>0.027381</td>\n",
       "    </tr>\n",
       "    <tr>\n",
       "      <th>Density</th>\n",
       "      <td>0.024537</td>\n",
       "    </tr>\n",
       "    <tr>\n",
       "      <th>pH</th>\n",
       "      <td>-0.268956</td>\n",
       "    </tr>\n",
       "    <tr>\n",
       "      <th>Sulphates</th>\n",
       "      <td>1.372397</td>\n",
       "    </tr>\n",
       "  </tbody>\n",
       "</table>\n",
       "</div>"
      ],
      "text/plain": [
       "                      Coefficients\n",
       "Alcohol_Content           0.263640\n",
       "Fixed_Acidity            -0.757716\n",
       "Volatile_Acidity          0.877697\n",
       "Citric_Acid               0.737893\n",
       "Residual_Sugar           -0.072846\n",
       "Chlorides                 0.269744\n",
       "Free_Sulfur_Dioxide      -0.099592\n",
       "Total_Sulfur_Dioxide      0.027381\n",
       "Density                   0.024537\n",
       "pH                       -0.268956\n",
       "Sulphates                 1.372397"
      ]
     },
     "execution_count": 27,
     "metadata": {},
     "output_type": "execute_result"
    }
   ],
   "source": [
    "coeff_ = pd.DataFrame(lr.coef_, x.columns,columns = ['Coefficients'])\n",
    "coeff_"
   ]
  },
  {
   "cell_type": "code",
   "execution_count": 28,
   "id": "f0faf6d9-e384-4838-91b2-fcea11e073ff",
   "metadata": {},
   "outputs": [],
   "source": [
    "pred = lr.predict(x_test)"
   ]
  },
  {
   "cell_type": "code",
   "execution_count": 17,
   "id": "03cadbc4-b457-42ed-9a32-fe9a9c3beaa6",
   "metadata": {},
   "outputs": [
    {
     "data": {
      "text/plain": [
       "<matplotlib.collections.PathCollection at 0x202b0fbde80>"
      ]
     },
     "execution_count": 17,
     "metadata": {},
     "output_type": "execute_result"
    },
    {
     "data": {
      "image/png": "[encoded data removed]",
      "text/plain": [
       "<Figure size 640x480 with 1 Axes>"
      ]
     },
     "metadata": {},
     "output_type": "display_data"
    }
   ],
   "source": [
    "plt.scatter(y_test, pred)"
   ]
  },
  {
   "cell_type": "code",
   "execution_count": 19,
   "id": "f60bd04a-d2c4-4aaa-bd95-acd7d83e3346",
   "metadata": {},
   "outputs": [],
   "source": [
    "from sklearn import metrics"
   ]
  },
  {
   "cell_type": "code",
   "execution_count": 20,
   "id": "4c02d633-3fb9-4f21-984d-35dfbd6def3b",
   "metadata": {},
   "outputs": [
    {
     "name": "stdout",
     "output_type": "stream",
     "text": [
      "MAE: 10.614054392162608\n",
      "MSE: 167.09772682359724\n",
      "RMSE: 12.92662859463353\n"
     ]
    }
   ],
   "source": [
    "print('MAE:', metrics.mean_absolute_error(y_test, pred))\n",
    "print('MSE:', metrics.mean_squared_error(y_test, pred))\n",
    "print('RMSE:', np.sqrt(metrics.mean_squared_error(y_test, pred)))"
   ]
  },
  {
   "cell_type": "code",
   "execution_count": null,
   "id": "7700a708-b611-4189-9e3e-cf234565ff1b",
   "metadata": {},
   "outputs": [],
   "source": []
  }
 ],
 "metadata": {
  "kernelspec": {
   "display_name": "Python 3 (ipykernel)",
   "language": "python",
   "name": "python3"
  },
  "language_info": {
   "codemirror_mode": {
    "name": "ipython",
    "version": 3
   },
   "file_extension": ".py",
   "mimetype": "text/x-python",
   "name": "python",
   "nbconvert_exporter": "python",
   "pygments_lexer": "ipython3",
   "version": "3.12.0"
  }
 },
 "nbformat": 4,
 "nbformat_minor": 5
}
